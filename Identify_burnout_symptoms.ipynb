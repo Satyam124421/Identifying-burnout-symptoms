{
 "cells": [
  {
   "cell_type": "markdown",
   "metadata": {},
   "source": [
    "# Problem Statement:  Monitor the behavioural and personality traits of the employee to identify and predict the signs of burnout. Starting with the causes of burnout, it should be possible to predict burnout in the early stages."
   ]
  },
  {
   "cell_type": "code",
   "execution_count": 192,
   "metadata": {},
   "outputs": [],
   "source": [
    "#importing files\n",
    "import matplotlib.pyplot as plt\n",
    "import numpy as mp\n",
    "import pandas as pd\n",
    "from sklearn import linear_model\n",
    "from sklearn.preprocessing import PolynomialFeatures \n",
    "from sklearn.model_selection import train_test_split\n",
    "from scipy import stats\n",
    "import seaborn as s"
   ]
  },
  {
   "cell_type": "code",
   "execution_count": 193,
   "metadata": {},
   "outputs": [
    {
     "data": {
      "text/html": [
       "<div>\n",
       "<style scoped>\n",
       "    .dataframe tbody tr th:only-of-type {\n",
       "        vertical-align: middle;\n",
       "    }\n",
       "\n",
       "    .dataframe tbody tr th {\n",
       "        vertical-align: top;\n",
       "    }\n",
       "\n",
       "    .dataframe thead th {\n",
       "        text-align: right;\n",
       "    }\n",
       "</style>\n",
       "<table border=\"1\" class=\"dataframe\">\n",
       "  <thead>\n",
       "    <tr style=\"text-align: right;\">\n",
       "      <th></th>\n",
       "      <th>Date of Joining</th>\n",
       "      <th>Gender</th>\n",
       "      <th>Company Type</th>\n",
       "      <th>WFH Setup Available</th>\n",
       "      <th>Designation</th>\n",
       "      <th>Resource Allocation</th>\n",
       "      <th>Mental Fatigue Score</th>\n",
       "      <th>Burn Rate</th>\n",
       "    </tr>\n",
       "    <tr>\n",
       "      <th>Employee ID</th>\n",
       "      <th></th>\n",
       "      <th></th>\n",
       "      <th></th>\n",
       "      <th></th>\n",
       "      <th></th>\n",
       "      <th></th>\n",
       "      <th></th>\n",
       "      <th></th>\n",
       "    </tr>\n",
       "  </thead>\n",
       "  <tbody>\n",
       "    <tr>\n",
       "      <th>fffe32003000360033003200</th>\n",
       "      <td>2008-09-30</td>\n",
       "      <td>Female</td>\n",
       "      <td>Service</td>\n",
       "      <td>No</td>\n",
       "      <td>2.0</td>\n",
       "      <td>3.0</td>\n",
       "      <td>3.8</td>\n",
       "      <td>0.16</td>\n",
       "    </tr>\n",
       "    <tr>\n",
       "      <th>fffe3700360033003500</th>\n",
       "      <td>2008-11-30</td>\n",
       "      <td>Male</td>\n",
       "      <td>Service</td>\n",
       "      <td>Yes</td>\n",
       "      <td>1.0</td>\n",
       "      <td>2.0</td>\n",
       "      <td>5.0</td>\n",
       "      <td>0.36</td>\n",
       "    </tr>\n",
       "    <tr>\n",
       "      <th>fffe31003300320037003900</th>\n",
       "      <td>2008-03-10</td>\n",
       "      <td>Female</td>\n",
       "      <td>Product</td>\n",
       "      <td>Yes</td>\n",
       "      <td>2.0</td>\n",
       "      <td>NaN</td>\n",
       "      <td>5.8</td>\n",
       "      <td>0.49</td>\n",
       "    </tr>\n",
       "    <tr>\n",
       "      <th>fffe32003400380032003900</th>\n",
       "      <td>2008-11-03</td>\n",
       "      <td>Male</td>\n",
       "      <td>Service</td>\n",
       "      <td>Yes</td>\n",
       "      <td>1.0</td>\n",
       "      <td>1.0</td>\n",
       "      <td>2.6</td>\n",
       "      <td>0.20</td>\n",
       "    </tr>\n",
       "    <tr>\n",
       "      <th>fffe31003900340031003600</th>\n",
       "      <td>2008-07-24</td>\n",
       "      <td>Female</td>\n",
       "      <td>Service</td>\n",
       "      <td>No</td>\n",
       "      <td>3.0</td>\n",
       "      <td>7.0</td>\n",
       "      <td>6.9</td>\n",
       "      <td>0.52</td>\n",
       "    </tr>\n",
       "  </tbody>\n",
       "</table>\n",
       "</div>"
      ],
      "text/plain": [
       "                         Date of Joining  Gender Company Type  \\\n",
       "Employee ID                                                     \n",
       "fffe32003000360033003200      2008-09-30  Female      Service   \n",
       "fffe3700360033003500          2008-11-30    Male      Service   \n",
       "fffe31003300320037003900      2008-03-10  Female      Product   \n",
       "fffe32003400380032003900      2008-11-03    Male      Service   \n",
       "fffe31003900340031003600      2008-07-24  Female      Service   \n",
       "\n",
       "                         WFH Setup Available  Designation  \\\n",
       "Employee ID                                                 \n",
       "fffe32003000360033003200                  No          2.0   \n",
       "fffe3700360033003500                     Yes          1.0   \n",
       "fffe31003300320037003900                 Yes          2.0   \n",
       "fffe32003400380032003900                 Yes          1.0   \n",
       "fffe31003900340031003600                  No          3.0   \n",
       "\n",
       "                          Resource Allocation  Mental Fatigue Score  Burn Rate  \n",
       "Employee ID                                                                     \n",
       "fffe32003000360033003200                  3.0                   3.8       0.16  \n",
       "fffe3700360033003500                      2.0                   5.0       0.36  \n",
       "fffe31003300320037003900                  NaN                   5.8       0.49  \n",
       "fffe32003400380032003900                  1.0                   2.6       0.20  \n",
       "fffe31003900340031003600                  7.0                   6.9       0.52  "
      ]
     },
     "execution_count": 193,
     "metadata": {},
     "output_type": "execute_result"
    }
   ],
   "source": [
    "#DATA COLLECTION\n",
    "df_full = pd.read_csv(r\"C:\\Users\\ritik\\Downloads\\train.csv\",index_col='Employee ID')\n",
    "df_test = pd.read_csv(r\"C:\\Users\\ritik\\Downloads\\test.csv\",index_col='Employee ID')\n",
    "df_full.head()"
   ]
  },
  {
   "cell_type": "code",
   "execution_count": 194,
   "metadata": {},
   "outputs": [
    {
     "data": {
      "text/plain": [
       "Date of Joining          object\n",
       "Gender                   object\n",
       "Company Type             object\n",
       "WFH Setup Available      object\n",
       "Designation             float64\n",
       "Resource Allocation     float64\n",
       "Mental Fatigue Score    float64\n",
       "Burn Rate               float64\n",
       "dtype: object"
      ]
     },
     "execution_count": 194,
     "metadata": {},
     "output_type": "execute_result"
    }
   ],
   "source": [
    "df_full.dtypes"
   ]
  },
  {
   "cell_type": "code",
   "execution_count": 195,
   "metadata": {
    "scrolled": true
   },
   "outputs": [],
   "source": [
    "#grouping of all data\n",
    "\n",
    "#data of joining\n",
    "df_full['Date of Joining'] = pd.to_datetime(df_full['Date of Joining'])\n",
    "df_test['Date of Joining'] = pd.to_datetime(df_test['Date of Joining'])\n",
    "\n",
    "#company type\n",
    "company_type = {'Service': 2 , 'Product': 1}\n",
    "df_full['Company Type'] = [company_type[j] for j in  df_full['Company Type']]\n",
    "df_test['Company Type'] = [company_type[j] for j in  df_test['Company Type']]\n",
    "\n",
    "#gender \n",
    "gender = { 'Female': 2 , 'Male': 1 }\n",
    "df_full['Gender'] = [gender[j] for j in  df_full['Gender']]\n",
    "df_test['Gender'] = [gender[j] for j in  df_test['Gender']] \n",
    "\n",
    "#Designation\n",
    "df_full['Designation'] = df_full['Designation'].astype('Int64')\n",
    "df_test['Designation'] = df_test['Designation'].astype('Int64')\n",
    "\n",
    "#WFH setup\n",
    "wfh = { 'Yes': 0 , 'No': 1 }\n",
    "df_full['WFH Setup Available'] = [wfh[j] for j in  df_full['WFH Setup Available']]\n",
    "df_test['WFH Setup Available'] = [wfh[j] for j in  df_test['WFH Setup Available']]"
   ]
  },
  {
   "cell_type": "code",
   "execution_count": 196,
   "metadata": {},
   "outputs": [
    {
     "data": {
      "text/plain": [
       "Date of Joining         datetime64[ns]\n",
       "Gender                           int64\n",
       "Company Type                     int64\n",
       "WFH Setup Available              int64\n",
       "Designation                      Int64\n",
       "Resource Allocation            float64\n",
       "Mental Fatigue Score           float64\n",
       "Burn Rate                      float64\n",
       "dtype: object"
      ]
     },
     "execution_count": 196,
     "metadata": {},
     "output_type": "execute_result"
    }
   ],
   "source": [
    "df_full.dtypes"
   ]
  },
  {
   "cell_type": "code",
   "execution_count": 197,
   "metadata": {},
   "outputs": [
    {
     "data": {
      "text/plain": [
       "Date of Joining            0\n",
       "Gender                     0\n",
       "Company Type               0\n",
       "WFH Setup Available        0\n",
       "Designation                0\n",
       "Resource Allocation     1381\n",
       "Mental Fatigue Score    2117\n",
       "Burn Rate               1124\n",
       "dtype: int64"
      ]
     },
     "execution_count": 197,
     "metadata": {},
     "output_type": "execute_result"
    }
   ],
   "source": [
    "# showing all null data\n",
    "df_full.isnull().sum()"
   ]
  },
  {
   "cell_type": "code",
   "execution_count": 198,
   "metadata": {},
   "outputs": [],
   "source": [
    "# removing all null data\n",
    "df_full = df_full.dropna()"
   ]
  },
  {
   "cell_type": "code",
   "execution_count": 199,
   "metadata": {},
   "outputs": [
    {
     "data": {
      "text/plain": [
       "Date of Joining         0\n",
       "Gender                  0\n",
       "Company Type            0\n",
       "WFH Setup Available     0\n",
       "Designation             0\n",
       "Resource Allocation     0\n",
       "Mental Fatigue Score    0\n",
       "Burn Rate               0\n",
       "dtype: int64"
      ]
     },
     "execution_count": 199,
     "metadata": {},
     "output_type": "execute_result"
    }
   ],
   "source": [
    "# no null data left\n",
    "df_full.isnull().sum()"
   ]
  },
  {
   "cell_type": "code",
   "execution_count": 200,
   "metadata": {},
   "outputs": [
    {
     "data": {
      "text/html": [
       "<div>\n",
       "<style scoped>\n",
       "    .dataframe tbody tr th:only-of-type {\n",
       "        vertical-align: middle;\n",
       "    }\n",
       "\n",
       "    .dataframe tbody tr th {\n",
       "        vertical-align: top;\n",
       "    }\n",
       "\n",
       "    .dataframe thead th {\n",
       "        text-align: right;\n",
       "    }\n",
       "</style>\n",
       "<table border=\"1\" class=\"dataframe\">\n",
       "  <thead>\n",
       "    <tr style=\"text-align: right;\">\n",
       "      <th></th>\n",
       "      <th>Mental Fatigue Score</th>\n",
       "      <th>Resource Allocation</th>\n",
       "      <th>Designation</th>\n",
       "      <th>Burn Rate</th>\n",
       "    </tr>\n",
       "  </thead>\n",
       "  <tbody>\n",
       "    <tr>\n",
       "      <th>Mental Fatigue Score</th>\n",
       "      <td>1.000000</td>\n",
       "      <td>0.799563</td>\n",
       "      <td>0.691823</td>\n",
       "      <td>0.944389</td>\n",
       "    </tr>\n",
       "    <tr>\n",
       "      <th>Resource Allocation</th>\n",
       "      <td>0.799563</td>\n",
       "      <td>1.000000</td>\n",
       "      <td>0.877893</td>\n",
       "      <td>0.855005</td>\n",
       "    </tr>\n",
       "    <tr>\n",
       "      <th>Designation</th>\n",
       "      <td>0.691823</td>\n",
       "      <td>0.877893</td>\n",
       "      <td>1.000000</td>\n",
       "      <td>0.736412</td>\n",
       "    </tr>\n",
       "    <tr>\n",
       "      <th>Burn Rate</th>\n",
       "      <td>0.944389</td>\n",
       "      <td>0.855005</td>\n",
       "      <td>0.736412</td>\n",
       "      <td>1.000000</td>\n",
       "    </tr>\n",
       "  </tbody>\n",
       "</table>\n",
       "</div>"
      ],
      "text/plain": [
       "                      Mental Fatigue Score  Resource Allocation  Designation  \\\n",
       "Mental Fatigue Score              1.000000             0.799563     0.691823   \n",
       "Resource Allocation               0.799563             1.000000     0.877893   \n",
       "Designation                       0.691823             0.877893     1.000000   \n",
       "Burn Rate                         0.944389             0.855005     0.736412   \n",
       "\n",
       "                      Burn Rate  \n",
       "Mental Fatigue Score   0.944389  \n",
       "Resource Allocation    0.855005  \n",
       "Designation            0.736412  \n",
       "Burn Rate              1.000000  "
      ]
     },
     "execution_count": 200,
     "metadata": {},
     "output_type": "execute_result"
    }
   ],
   "source": [
    "#finding pairwise correlation in columns\n",
    "df_full[['Mental Fatigue Score','Resource Allocation','Designation','Burn Rate']].corr() "
   ]
  },
  {
   "cell_type": "code",
   "execution_count": 201,
   "metadata": {},
   "outputs": [
    {
     "data": {
      "text/plain": [
       "Text(0.5, 1.0, 'Resource Allocation')"
      ]
     },
     "execution_count": 201,
     "metadata": {},
     "output_type": "execute_result"
    },
    {
     "data": {
      "image/png": "[encoded data removed]",
      "text/plain": [
       "<Figure size 1440x432 with 3 Axes>"
      ]
     },
     "metadata": {
      "needs_background": "light"
     },
     "output_type": "display_data"
    }
   ],
   "source": [
    "# Showing Burn Rate with respect to Designation,Mental Fatigue Score and Resource Allocation\n",
    "fig, axs = plt.subplots(1,3,figsize=(20,6))\n",
    "axs[0].set(ylabel='Burn Rate')\n",
    "axs[0].scatter(df_full['Designation'],df_full['Burn Rate'])\n",
    "axs[0].set_title('Designation')\n",
    "axs[1].scatter(df_full['Mental Fatigue Score'],df_full['Burn Rate'])\n",
    "axs[1].set_title('Mental Fatigue Score')\n",
    "axs[2].scatter(df_full['Resource Allocation'],df_full['Burn Rate'])\n",
    "axs[2].set_title('Resource Allocation')"
   ]
  },
  {
   "cell_type": "code",
   "execution_count": 202,
   "metadata": {},
   "outputs": [],
   "source": [
    "df_full['Month of Joining'] = df_full['Date of Joining'].dt.month\n",
    "df_test['Month of Joining'] = df_test['Date of Joining'].dt.month\n",
    "\n",
    "df_full['Quarter of Joining'] = df_full['Date of Joining'].dt.quarter\n",
    "df_test['Quarter of Joining'] = df_test['Date of Joining'].dt.quarter\n",
    "\n",
    "from datetime import date,datetime\n",
    "\n",
    "seasons = { 'Summer':(datetime(2008,6,21),datetime(2008,9,22)),\n",
    "            'Autumn':(datetime(2008,9,23),datetime(2008,12,20)),\n",
    "            'Spring':(datetime(2008,3,21),datetime(2008,6,20)) }\n",
    "\n",
    "def get_season(row):\n",
    "    date = row['Date of Joining']\n",
    "    for season,(season_start,season_end) in seasons.items():\n",
    "        if date>=season_start and date<=season_end:\n",
    "            return season\n",
    "    else:\n",
    "        return 'Winter'\n",
    "    \n",
    "\n",
    "df_full['Season of Joining'] = df_full.apply(lambda row: get_season(row),axis=1)\n",
    "df_test['Season of Joining'] = df_test.apply(lambda row: get_season(row),axis=1)\n"
   ]
  },
  {
   "cell_type": "code",
   "execution_count": 203,
   "metadata": {},
   "outputs": [],
   "source": [
    "# forming dumies\n",
    "\n",
    "quater_dumnies = pd.get_dummies(df_full['Quarter of Joining'],prefix='Quarter',drop_first=False)\n",
    "season_dumnies = pd.get_dummies(df_full['Season of Joining'],prefix='Season',drop_first=False)\n",
    "designation_dumnies = pd.get_dummies(df_full['Designation'],prefix='Designation',drop_first=False)\n",
    "\n",
    "df_full = pd.concat([df_full,designation_dumnies,quater_dumnies,season_dumnies],axis=1)\n",
    "\n",
    "quater_dumies_test = pd.get_dummies(df_test['Quarter of Joining'],prefix='Quarter',drop_first=False)\n",
    "season_dumies_test = pd.get_dummies(df_test['Season of Joining'],prefix='Season',drop_first=False)\n",
    "designation_dumies_test = pd.get_dummies(df_test['Designation'],prefix='Designation',drop_first=False)\n",
    "\n",
    "df_test =  pd.concat([df_test,designation_dumies_test,quater_dumies_test,season_dumies_test],axis=1)"
   ]
  },
  {
   "cell_type": "code",
   "execution_count": 204,
   "metadata": {},
   "outputs": [
    {
     "data": {
      "text/plain": [
       "Date of Joining         datetime64[ns]\n",
       "Gender                           int64\n",
       "Company Type                     int64\n",
       "WFH Setup Available              int64\n",
       "Designation                      Int64\n",
       "Resource Allocation            float64\n",
       "Mental Fatigue Score           float64\n",
       "Burn Rate                      float64\n",
       "Month of Joining                 int64\n",
       "Quarter of Joining               int64\n",
       "Season of Joining               object\n",
       "Designation_0                    uint8\n",
       "Designation_1                    uint8\n",
       "Designation_2                    uint8\n",
       "Designation_3                    uint8\n",
       "Designation_4                    uint8\n",
       "Designation_5                    uint8\n",
       "Quarter_1                        uint8\n",
       "Quarter_2                        uint8\n",
       "Quarter_3                        uint8\n",
       "Quarter_4                        uint8\n",
       "Season_Autumn                    uint8\n",
       "Season_Spring                    uint8\n",
       "Season_Summer                    uint8\n",
       "Season_Winter                    uint8\n",
       "dtype: object"
      ]
     },
     "execution_count": 204,
     "metadata": {},
     "output_type": "execute_result"
    }
   ],
   "source": [
    "# showing data types\n",
    "df_full.dtypes"
   ]
  },
  {
   "cell_type": "code",
   "execution_count": 205,
   "metadata": {},
   "outputs": [
    {
     "data": {
      "text/plain": [
       "Index(['Gender', 'Company Type', 'WFH Setup Available', 'Designation',\n",
       "       'Resource Allocation', 'Mental Fatigue Score', 'Month of Joining',\n",
       "       'Designation_0', 'Designation_1', 'Designation_2', 'Designation_3',\n",
       "       'Designation_4', 'Designation_5', 'Quarter_1', 'Quarter_2', 'Quarter_3',\n",
       "       'Quarter_4', 'Season_Autumn', 'Season_Spring', 'Season_Summer',\n",
       "       'Season_Winter'],\n",
       "      dtype='object')"
      ]
     },
     "execution_count": 205,
     "metadata": {},
     "output_type": "execute_result"
    }
   ],
   "source": [
    "# ploting\n",
    "x = df_full.drop(['Burn Rate','Date of Joining','Quarter of Joining','Season of Joining'],axis=1)\n",
    "y = df_full['Burn Rate']\n",
    "x.columns"
   ]
  },
  {
   "cell_type": "code",
   "execution_count": 206,
   "metadata": {},
   "outputs": [
    {
     "data": {
      "text/html": [
       "<div>\n",
       "<style scoped>\n",
       "    .dataframe tbody tr th:only-of-type {\n",
       "        vertical-align: middle;\n",
       "    }\n",
       "\n",
       "    .dataframe tbody tr th {\n",
       "        vertical-align: top;\n",
       "    }\n",
       "\n",
       "    .dataframe thead th {\n",
       "        text-align: right;\n",
       "    }\n",
       "</style>\n",
       "<table border=\"1\" class=\"dataframe\">\n",
       "  <thead>\n",
       "    <tr style=\"text-align: right;\">\n",
       "      <th></th>\n",
       "      <th>1</th>\n",
       "      <th>Gender</th>\n",
       "      <th>Company Type</th>\n",
       "      <th>WFH Setup Available</th>\n",
       "      <th>Designation</th>\n",
       "      <th>Resource Allocation</th>\n",
       "      <th>Mental Fatigue Score</th>\n",
       "      <th>Month of Joining</th>\n",
       "      <th>Gender Company Type</th>\n",
       "      <th>Gender WFH Setup Available</th>\n",
       "      <th>...</th>\n",
       "      <th>WFH Setup Available Designation</th>\n",
       "      <th>WFH Setup Available Resource Allocation</th>\n",
       "      <th>WFH Setup Available Mental Fatigue Score</th>\n",
       "      <th>WFH Setup Available Month of Joining</th>\n",
       "      <th>Designation Resource Allocation</th>\n",
       "      <th>Designation Mental Fatigue Score</th>\n",
       "      <th>Designation Month of Joining</th>\n",
       "      <th>Resource Allocation Mental Fatigue Score</th>\n",
       "      <th>Resource Allocation Month of Joining</th>\n",
       "      <th>Mental Fatigue Score Month of Joining</th>\n",
       "    </tr>\n",
       "  </thead>\n",
       "  <tbody>\n",
       "    <tr>\n",
       "      <th>0</th>\n",
       "      <td>1.0</td>\n",
       "      <td>2.0</td>\n",
       "      <td>2.0</td>\n",
       "      <td>1.0</td>\n",
       "      <td>2.0</td>\n",
       "      <td>3.0</td>\n",
       "      <td>3.8</td>\n",
       "      <td>9.0</td>\n",
       "      <td>4.0</td>\n",
       "      <td>2.0</td>\n",
       "      <td>...</td>\n",
       "      <td>2.0</td>\n",
       "      <td>3.0</td>\n",
       "      <td>3.8</td>\n",
       "      <td>9.0</td>\n",
       "      <td>6.0</td>\n",
       "      <td>7.6</td>\n",
       "      <td>18.0</td>\n",
       "      <td>11.4</td>\n",
       "      <td>27.0</td>\n",
       "      <td>34.2</td>\n",
       "    </tr>\n",
       "    <tr>\n",
       "      <th>1</th>\n",
       "      <td>1.0</td>\n",
       "      <td>1.0</td>\n",
       "      <td>2.0</td>\n",
       "      <td>0.0</td>\n",
       "      <td>1.0</td>\n",
       "      <td>2.0</td>\n",
       "      <td>5.0</td>\n",
       "      <td>11.0</td>\n",
       "      <td>2.0</td>\n",
       "      <td>0.0</td>\n",
       "      <td>...</td>\n",
       "      <td>0.0</td>\n",
       "      <td>0.0</td>\n",
       "      <td>0.0</td>\n",
       "      <td>0.0</td>\n",
       "      <td>2.0</td>\n",
       "      <td>5.0</td>\n",
       "      <td>11.0</td>\n",
       "      <td>10.0</td>\n",
       "      <td>22.0</td>\n",
       "      <td>55.0</td>\n",
       "    </tr>\n",
       "    <tr>\n",
       "      <th>2</th>\n",
       "      <td>1.0</td>\n",
       "      <td>1.0</td>\n",
       "      <td>2.0</td>\n",
       "      <td>0.0</td>\n",
       "      <td>1.0</td>\n",
       "      <td>1.0</td>\n",
       "      <td>2.6</td>\n",
       "      <td>11.0</td>\n",
       "      <td>2.0</td>\n",
       "      <td>0.0</td>\n",
       "      <td>...</td>\n",
       "      <td>0.0</td>\n",
       "      <td>0.0</td>\n",
       "      <td>0.0</td>\n",
       "      <td>0.0</td>\n",
       "      <td>1.0</td>\n",
       "      <td>2.6</td>\n",
       "      <td>11.0</td>\n",
       "      <td>2.6</td>\n",
       "      <td>11.0</td>\n",
       "      <td>28.6</td>\n",
       "    </tr>\n",
       "    <tr>\n",
       "      <th>3</th>\n",
       "      <td>1.0</td>\n",
       "      <td>2.0</td>\n",
       "      <td>2.0</td>\n",
       "      <td>1.0</td>\n",
       "      <td>3.0</td>\n",
       "      <td>7.0</td>\n",
       "      <td>6.9</td>\n",
       "      <td>7.0</td>\n",
       "      <td>4.0</td>\n",
       "      <td>2.0</td>\n",
       "      <td>...</td>\n",
       "      <td>3.0</td>\n",
       "      <td>7.0</td>\n",
       "      <td>6.9</td>\n",
       "      <td>7.0</td>\n",
       "      <td>21.0</td>\n",
       "      <td>20.7</td>\n",
       "      <td>21.0</td>\n",
       "      <td>48.3</td>\n",
       "      <td>49.0</td>\n",
       "      <td>48.3</td>\n",
       "    </tr>\n",
       "    <tr>\n",
       "      <th>4</th>\n",
       "      <td>1.0</td>\n",
       "      <td>1.0</td>\n",
       "      <td>1.0</td>\n",
       "      <td>0.0</td>\n",
       "      <td>2.0</td>\n",
       "      <td>4.0</td>\n",
       "      <td>3.6</td>\n",
       "      <td>11.0</td>\n",
       "      <td>1.0</td>\n",
       "      <td>0.0</td>\n",
       "      <td>...</td>\n",
       "      <td>0.0</td>\n",
       "      <td>0.0</td>\n",
       "      <td>0.0</td>\n",
       "      <td>0.0</td>\n",
       "      <td>8.0</td>\n",
       "      <td>7.2</td>\n",
       "      <td>22.0</td>\n",
       "      <td>14.4</td>\n",
       "      <td>44.0</td>\n",
       "      <td>39.6</td>\n",
       "    </tr>\n",
       "  </tbody>\n",
       "</table>\n",
       "<p>5 rows × 29 columns</p>\n",
       "</div>"
      ],
      "text/plain": [
       "     1  Gender  Company Type  WFH Setup Available  Designation  \\\n",
       "0  1.0     2.0           2.0                  1.0          2.0   \n",
       "1  1.0     1.0           2.0                  0.0          1.0   \n",
       "2  1.0     1.0           2.0                  0.0          1.0   \n",
       "3  1.0     2.0           2.0                  1.0          3.0   \n",
       "4  1.0     1.0           1.0                  0.0          2.0   \n",
       "\n",
       "   Resource Allocation  Mental Fatigue Score  Month of Joining  \\\n",
       "0                  3.0                   3.8               9.0   \n",
       "1                  2.0                   5.0              11.0   \n",
       "2                  1.0                   2.6              11.0   \n",
       "3                  7.0                   6.9               7.0   \n",
       "4                  4.0                   3.6              11.0   \n",
       "\n",
       "   Gender Company Type  Gender WFH Setup Available  ...  \\\n",
       "0                  4.0                         2.0  ...   \n",
       "1                  2.0                         0.0  ...   \n",
       "2                  2.0                         0.0  ...   \n",
       "3                  4.0                         2.0  ...   \n",
       "4                  1.0                         0.0  ...   \n",
       "\n",
       "   WFH Setup Available Designation  WFH Setup Available Resource Allocation  \\\n",
       "0                              2.0                                      3.0   \n",
       "1                              0.0                                      0.0   \n",
       "2                              0.0                                      0.0   \n",
       "3                              3.0                                      7.0   \n",
       "4                              0.0                                      0.0   \n",
       "\n",
       "   WFH Setup Available Mental Fatigue Score  \\\n",
       "0                                       3.8   \n",
       "1                                       0.0   \n",
       "2                                       0.0   \n",
       "3                                       6.9   \n",
       "4                                       0.0   \n",
       "\n",
       "   WFH Setup Available Month of Joining  Designation Resource Allocation  \\\n",
       "0                                   9.0                              6.0   \n",
       "1                                   0.0                              2.0   \n",
       "2                                   0.0                              1.0   \n",
       "3                                   7.0                             21.0   \n",
       "4                                   0.0                              8.0   \n",
       "\n",
       "   Designation Mental Fatigue Score  Designation Month of Joining  \\\n",
       "0                               7.6                          18.0   \n",
       "1                               5.0                          11.0   \n",
       "2                               2.6                          11.0   \n",
       "3                              20.7                          21.0   \n",
       "4                               7.2                          22.0   \n",
       "\n",
       "   Resource Allocation Mental Fatigue Score  \\\n",
       "0                                      11.4   \n",
       "1                                      10.0   \n",
       "2                                       2.6   \n",
       "3                                      48.3   \n",
       "4                                      14.4   \n",
       "\n",
       "   Resource Allocation Month of Joining  Mental Fatigue Score Month of Joining  \n",
       "0                                  27.0                                   34.2  \n",
       "1                                  22.0                                   55.0  \n",
       "2                                  11.0                                   28.6  \n",
       "3                                  49.0                                   48.3  \n",
       "4                                  44.0                                   39.6  \n",
       "\n",
       "[5 rows x 29 columns]"
      ]
     },
     "execution_count": 206,
     "metadata": {},
     "output_type": "execute_result"
    }
   ],
   "source": [
    "poly = PolynomialFeatures(interaction_only=True)\n",
    "\n",
    "x_t = pd.DataFrame(poly.fit_transform(x[['Gender','Company Type','WFH Setup Available','Designation','Resource Allocation','Mental Fatigue Score','Month of Joining']]))\n",
    "\n",
    "f_list = poly.get_feature_names(['Gender','Company Type','WFH Setup Available','Designation','Resource Allocation','Mental Fatigue Score','Month of Joining'])\n",
    "\n",
    "x_t.columns = f_list\n",
    "x_t.head()"
   ]
  },
  {
   "cell_type": "code",
   "execution_count": 207,
   "metadata": {},
   "outputs": [
    {
     "name": "stdout",
     "output_type": "stream",
     "text": [
      "[0.25489868 0.39032275 0.35012219 ... 0.50581453 0.40562211 0.54659334]\n",
      "(4648,)\n"
     ]
    }
   ],
   "source": [
    "x_train,x_test,y_train,y_test = train_test_split(x_t,y,test_size=0.25,random_state=42)\n",
    "\n",
    "features = ['1','Resource Allocation Mental Fatigue Score','Designation Mental Fatigue Score','WFH Setup Available Mental Fatigue Score','Gender Company Type','Mental Fatigue Score','Resource Allocation','Company Type']\n",
    "\n",
    "x_train_f = x_train[features]\n",
    "x_test_f = x_test[features]\n",
    "\n",
    "f = linear_model.LinearRegression()\n",
    "f.fit(x_train_f,y_train)\n",
    "\n",
    "y_predict_f = f.predict(x_test_f)\n",
    "\n",
    "print(y_predict_f)\n",
    "print(y_predict_f.shape)"
   ]
  },
  {
   "cell_type": "code",
   "execution_count": 208,
   "metadata": {},
   "outputs": [
    {
     "name": "stdout",
     "output_type": "stream",
     "text": [
      "Coefficients:\n",
      "('1', 0.0)\n",
      "('Resource Allocation Mental Fatigue Score', 0.0029269534133904086)\n",
      "('Designation Mental Fatigue Score', -0.0005039385815058803)\n",
      "('WFH Setup Available Mental Fatigue Score', 0.0015780147215048537)\n",
      "('Gender Company Type', -0.0024425278559733468)\n",
      "('Mental Fatigue Score', 0.06453558531415243)\n",
      "('Resource Allocation', 0.008376507912484241)\n",
      "('Company Type', 0.004499633703898387)\n"
     ]
    }
   ],
   "source": [
    "print('Coefficients:')\n",
    "for item in zip(list(x_train_f.columns),f.coef_):\n",
    "    print(item)\n",
    "    \n"
   ]
  },
  {
   "cell_type": "code",
   "execution_count": 191,
   "metadata": {
    "scrolled": true
   },
   "outputs": [
    {
     "name": "stdout",
     "output_type": "stream",
     "text": [
      "Result\n",
      "0.9242586252645024\n",
      "0.9245447414242371\n"
     ]
    }
   ],
   "source": [
    "#result\n",
    "print(\"Result\")\n",
    "print(f.score(x_train_f,y_train))\n",
    "print(f.score(x_test_f,y_test))"
   ]
  }
 ],
 "metadata": {
  "kernelspec": {
   "display_name": "Python 3",
   "language": "python",
   "name": "python3"
  },
  "language_info": {
   "codemirror_mode": {
    "name": "ipython",
    "version": 3
   },
   "file_extension": ".py",
   "mimetype": "text/x-python",
   "name": "python",
   "nbconvert_exporter": "python",
   "pygments_lexer": "ipython3",
   "version": "3.7.6"
  }
 },
 "nbformat": 4,
 "nbformat_minor": 4
}
